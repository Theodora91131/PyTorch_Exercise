{
 "cells": [
  {
   "cell_type": "markdown",
   "metadata": {
    "id": "mz0_QVkxCrX3"
   },
   "source": [
    "# **Homework 1: COVID-19 Cases Prediction (Regression)**"
   ]
  },
  {
   "cell_type": "markdown",
   "metadata": {
    "id": "ZeZnPAiwDRWG"
   },
   "source": [
    "Author: Heng-Jui Chang\n",
    "\n",
    "Slides: https://github.com/ga642381/ML2021-Spring/blob/main/HW01/HW01.pdf  \n",
    "Videos (Mandarin): https://cool.ntu.edu.tw/courses/4793/modules/items/172854  \n",
    "https://cool.ntu.edu.tw/courses/4793/modules/items/172853  \n",
    "Video (English): https://cool.ntu.edu.tw/courses/4793/modules/items/176529\n",
    "\n",
    "\n",
    "Objectives:\n",
    "* Solve a regression problem with deep neural networks (DNN).\n",
    "* Understand basic DNN training tips.\n",
    "* Get familiar with PyTorch.\n",
    "\n",
    "If any questions, please contact the TAs via TA hours, NTU COOL, or email.\n"
   ]
  },
  {
   "cell_type": "markdown",
   "metadata": {
    "id": "Jx3x1nDkG-Uy"
   },
   "source": [
    "# **Download Data**\n",
    "\n",
    "\n",
    "If the Google drive links are dead, you can download data from [kaggle](https://www.kaggle.com/c/ml2021spring-hw1/data), and upload data manually to the workspace."
   ]
  },
  {
   "cell_type": "code",
   "execution_count": 99,
   "metadata": {
    "colab": {
     "base_uri": "https://localhost:8080/"
    },
    "id": "tMj55YDKG6ch",
    "outputId": "fc40ecc9-4756-48b1-d5c6-c169a8b453b2"
   },
   "outputs": [],
   "source": [
    "data = 'covid.train.csv'  # path to training data\n",
    "tt_path = 'covid.test.csv'   # path to testing data\n",
    "\n",
    "#!gdown --id '19CCyCgJrUxtvgZF53vnctJiOJ23T5mqF' --output covid.train.csv\n",
    "#!gdown --id '1CE240jLm2npU-tdz81-oVKEF3T2yfT1O' --output covid.test.csv"
   ]
  },
  {
   "cell_type": "markdown",
   "metadata": {},
   "source": [
    "# load data by using pandas"
   ]
  },
  {
   "cell_type": "code",
   "execution_count": 100,
   "metadata": {},
   "outputs": [],
   "source": [
    "import numpy as np\n",
    "import pandas as pd\n",
    "import torch\n",
    "from torch.autograd import Variable\n",
    "import torch.optim as optim\n",
    "import matplotlib.pyplot as plt\n",
    "%matplotlib inline"
   ]
  },
  {
   "cell_type": "code",
   "execution_count": 23,
   "metadata": {},
   "outputs": [
    {
     "data": {
      "text/html": [
       "<div>\n",
       "<style scoped>\n",
       "    .dataframe tbody tr th:only-of-type {\n",
       "        vertical-align: middle;\n",
       "    }\n",
       "\n",
       "    .dataframe tbody tr th {\n",
       "        vertical-align: top;\n",
       "    }\n",
       "\n",
       "    .dataframe thead th {\n",
       "        text-align: right;\n",
       "    }\n",
       "</style>\n",
       "<table border=\"1\" class=\"dataframe\">\n",
       "  <thead>\n",
       "    <tr style=\"text-align: right;\">\n",
       "      <th></th>\n",
       "      <th>id</th>\n",
       "      <th>AL</th>\n",
       "      <th>AK</th>\n",
       "      <th>AZ</th>\n",
       "      <th>AR</th>\n",
       "      <th>CA</th>\n",
       "      <th>CO</th>\n",
       "      <th>CT</th>\n",
       "      <th>FL</th>\n",
       "      <th>GA</th>\n",
       "      <th>...</th>\n",
       "      <th>restaurant.2</th>\n",
       "      <th>spent_time.2</th>\n",
       "      <th>large_event.2</th>\n",
       "      <th>public_transit.2</th>\n",
       "      <th>anxious.2</th>\n",
       "      <th>depressed.2</th>\n",
       "      <th>felt_isolated.2</th>\n",
       "      <th>worried_become_ill.2</th>\n",
       "      <th>worried_finances.2</th>\n",
       "      <th>tested_positive.2</th>\n",
       "    </tr>\n",
       "  </thead>\n",
       "  <tbody>\n",
       "    <tr>\n",
       "      <th>0</th>\n",
       "      <td>0</td>\n",
       "      <td>1.0</td>\n",
       "      <td>0.0</td>\n",
       "      <td>0.0</td>\n",
       "      <td>0.0</td>\n",
       "      <td>0.0</td>\n",
       "      <td>0.0</td>\n",
       "      <td>0.0</td>\n",
       "      <td>0.0</td>\n",
       "      <td>0.0</td>\n",
       "      <td>...</td>\n",
       "      <td>23.812411</td>\n",
       "      <td>43.430423</td>\n",
       "      <td>16.151527</td>\n",
       "      <td>1.602635</td>\n",
       "      <td>15.409449</td>\n",
       "      <td>12.088688</td>\n",
       "      <td>16.702086</td>\n",
       "      <td>53.991549</td>\n",
       "      <td>43.604229</td>\n",
       "      <td>20.704935</td>\n",
       "    </tr>\n",
       "    <tr>\n",
       "      <th>1</th>\n",
       "      <td>1</td>\n",
       "      <td>1.0</td>\n",
       "      <td>0.0</td>\n",
       "      <td>0.0</td>\n",
       "      <td>0.0</td>\n",
       "      <td>0.0</td>\n",
       "      <td>0.0</td>\n",
       "      <td>0.0</td>\n",
       "      <td>0.0</td>\n",
       "      <td>0.0</td>\n",
       "      <td>...</td>\n",
       "      <td>23.682974</td>\n",
       "      <td>43.196313</td>\n",
       "      <td>16.123386</td>\n",
       "      <td>1.641863</td>\n",
       "      <td>15.230063</td>\n",
       "      <td>11.809047</td>\n",
       "      <td>16.506973</td>\n",
       "      <td>54.185521</td>\n",
       "      <td>42.665766</td>\n",
       "      <td>21.292911</td>\n",
       "    </tr>\n",
       "    <tr>\n",
       "      <th>2</th>\n",
       "      <td>2</td>\n",
       "      <td>1.0</td>\n",
       "      <td>0.0</td>\n",
       "      <td>0.0</td>\n",
       "      <td>0.0</td>\n",
       "      <td>0.0</td>\n",
       "      <td>0.0</td>\n",
       "      <td>0.0</td>\n",
       "      <td>0.0</td>\n",
       "      <td>0.0</td>\n",
       "      <td>...</td>\n",
       "      <td>23.593983</td>\n",
       "      <td>43.362200</td>\n",
       "      <td>16.159971</td>\n",
       "      <td>1.677523</td>\n",
       "      <td>15.717207</td>\n",
       "      <td>12.355918</td>\n",
       "      <td>16.273294</td>\n",
       "      <td>53.637069</td>\n",
       "      <td>42.972417</td>\n",
       "      <td>21.166656</td>\n",
       "    </tr>\n",
       "    <tr>\n",
       "      <th>3</th>\n",
       "      <td>3</td>\n",
       "      <td>1.0</td>\n",
       "      <td>0.0</td>\n",
       "      <td>0.0</td>\n",
       "      <td>0.0</td>\n",
       "      <td>0.0</td>\n",
       "      <td>0.0</td>\n",
       "      <td>0.0</td>\n",
       "      <td>0.0</td>\n",
       "      <td>0.0</td>\n",
       "      <td>...</td>\n",
       "      <td>22.576992</td>\n",
       "      <td>42.954574</td>\n",
       "      <td>15.544373</td>\n",
       "      <td>1.578030</td>\n",
       "      <td>15.295650</td>\n",
       "      <td>12.218123</td>\n",
       "      <td>16.045504</td>\n",
       "      <td>52.446223</td>\n",
       "      <td>42.907472</td>\n",
       "      <td>19.896607</td>\n",
       "    </tr>\n",
       "    <tr>\n",
       "      <th>4</th>\n",
       "      <td>4</td>\n",
       "      <td>1.0</td>\n",
       "      <td>0.0</td>\n",
       "      <td>0.0</td>\n",
       "      <td>0.0</td>\n",
       "      <td>0.0</td>\n",
       "      <td>0.0</td>\n",
       "      <td>0.0</td>\n",
       "      <td>0.0</td>\n",
       "      <td>0.0</td>\n",
       "      <td>...</td>\n",
       "      <td>22.091433</td>\n",
       "      <td>43.290957</td>\n",
       "      <td>15.214655</td>\n",
       "      <td>1.641667</td>\n",
       "      <td>14.778802</td>\n",
       "      <td>12.417256</td>\n",
       "      <td>16.134238</td>\n",
       "      <td>52.560315</td>\n",
       "      <td>43.321985</td>\n",
       "      <td>20.178428</td>\n",
       "    </tr>\n",
       "  </tbody>\n",
       "</table>\n",
       "<p>5 rows × 95 columns</p>\n",
       "</div>"
      ],
      "text/plain": [
       "   id   AL   AK   AZ   AR   CA   CO   CT   FL   GA  ...  restaurant.2  \\\n",
       "0   0  1.0  0.0  0.0  0.0  0.0  0.0  0.0  0.0  0.0  ...     23.812411   \n",
       "1   1  1.0  0.0  0.0  0.0  0.0  0.0  0.0  0.0  0.0  ...     23.682974   \n",
       "2   2  1.0  0.0  0.0  0.0  0.0  0.0  0.0  0.0  0.0  ...     23.593983   \n",
       "3   3  1.0  0.0  0.0  0.0  0.0  0.0  0.0  0.0  0.0  ...     22.576992   \n",
       "4   4  1.0  0.0  0.0  0.0  0.0  0.0  0.0  0.0  0.0  ...     22.091433   \n",
       "\n",
       "   spent_time.2  large_event.2  public_transit.2  anxious.2  depressed.2  \\\n",
       "0     43.430423      16.151527          1.602635  15.409449    12.088688   \n",
       "1     43.196313      16.123386          1.641863  15.230063    11.809047   \n",
       "2     43.362200      16.159971          1.677523  15.717207    12.355918   \n",
       "3     42.954574      15.544373          1.578030  15.295650    12.218123   \n",
       "4     43.290957      15.214655          1.641667  14.778802    12.417256   \n",
       "\n",
       "   felt_isolated.2  worried_become_ill.2  worried_finances.2  \\\n",
       "0        16.702086             53.991549           43.604229   \n",
       "1        16.506973             54.185521           42.665766   \n",
       "2        16.273294             53.637069           42.972417   \n",
       "3        16.045504             52.446223           42.907472   \n",
       "4        16.134238             52.560315           43.321985   \n",
       "\n",
       "   tested_positive.2  \n",
       "0          20.704935  \n",
       "1          21.292911  \n",
       "2          21.166656  \n",
       "3          19.896607  \n",
       "4          20.178428  \n",
       "\n",
       "[5 rows x 95 columns]"
      ]
     },
     "execution_count": 23,
     "metadata": {},
     "output_type": "execute_result"
    }
   ],
   "source": [
    "data = pd.read_csv(data)\n",
    "data.head()"
   ]
  },
  {
   "cell_type": "code",
   "execution_count": 24,
   "metadata": {},
   "outputs": [
    {
     "data": {
      "text/html": [
       "<div>\n",
       "<style scoped>\n",
       "    .dataframe tbody tr th:only-of-type {\n",
       "        vertical-align: middle;\n",
       "    }\n",
       "\n",
       "    .dataframe tbody tr th {\n",
       "        vertical-align: top;\n",
       "    }\n",
       "\n",
       "    .dataframe thead th {\n",
       "        text-align: right;\n",
       "    }\n",
       "</style>\n",
       "<table border=\"1\" class=\"dataframe\">\n",
       "  <thead>\n",
       "    <tr style=\"text-align: right;\">\n",
       "      <th></th>\n",
       "      <th>id</th>\n",
       "      <th>AL</th>\n",
       "      <th>AK</th>\n",
       "      <th>AZ</th>\n",
       "      <th>AR</th>\n",
       "      <th>CA</th>\n",
       "      <th>CO</th>\n",
       "      <th>CT</th>\n",
       "      <th>FL</th>\n",
       "      <th>GA</th>\n",
       "      <th>...</th>\n",
       "      <th>shop.2</th>\n",
       "      <th>restaurant.2</th>\n",
       "      <th>spent_time.2</th>\n",
       "      <th>large_event.2</th>\n",
       "      <th>public_transit.2</th>\n",
       "      <th>anxious.2</th>\n",
       "      <th>depressed.2</th>\n",
       "      <th>felt_isolated.2</th>\n",
       "      <th>worried_become_ill.2</th>\n",
       "      <th>worried_finances.2</th>\n",
       "    </tr>\n",
       "  </thead>\n",
       "  <tbody>\n",
       "    <tr>\n",
       "      <th>0</th>\n",
       "      <td>0</td>\n",
       "      <td>0.0</td>\n",
       "      <td>0.0</td>\n",
       "      <td>0.0</td>\n",
       "      <td>0.0</td>\n",
       "      <td>0.0</td>\n",
       "      <td>1.0</td>\n",
       "      <td>0.0</td>\n",
       "      <td>0.0</td>\n",
       "      <td>0.0</td>\n",
       "      <td>...</td>\n",
       "      <td>52.071090</td>\n",
       "      <td>8.624001</td>\n",
       "      <td>29.374792</td>\n",
       "      <td>5.391413</td>\n",
       "      <td>2.754804</td>\n",
       "      <td>19.695098</td>\n",
       "      <td>13.685645</td>\n",
       "      <td>24.747837</td>\n",
       "      <td>66.194950</td>\n",
       "      <td>44.873473</td>\n",
       "    </tr>\n",
       "    <tr>\n",
       "      <th>1</th>\n",
       "      <td>1</td>\n",
       "      <td>0.0</td>\n",
       "      <td>0.0</td>\n",
       "      <td>0.0</td>\n",
       "      <td>0.0</td>\n",
       "      <td>0.0</td>\n",
       "      <td>0.0</td>\n",
       "      <td>0.0</td>\n",
       "      <td>0.0</td>\n",
       "      <td>0.0</td>\n",
       "      <td>...</td>\n",
       "      <td>58.742461</td>\n",
       "      <td>21.720187</td>\n",
       "      <td>41.375784</td>\n",
       "      <td>9.450179</td>\n",
       "      <td>3.150088</td>\n",
       "      <td>22.075715</td>\n",
       "      <td>17.302077</td>\n",
       "      <td>23.559622</td>\n",
       "      <td>57.015009</td>\n",
       "      <td>38.372829</td>\n",
       "    </tr>\n",
       "    <tr>\n",
       "      <th>2</th>\n",
       "      <td>2</td>\n",
       "      <td>0.0</td>\n",
       "      <td>0.0</td>\n",
       "      <td>0.0</td>\n",
       "      <td>0.0</td>\n",
       "      <td>0.0</td>\n",
       "      <td>0.0</td>\n",
       "      <td>0.0</td>\n",
       "      <td>0.0</td>\n",
       "      <td>0.0</td>\n",
       "      <td>...</td>\n",
       "      <td>59.109045</td>\n",
       "      <td>20.123959</td>\n",
       "      <td>40.072556</td>\n",
       "      <td>8.781522</td>\n",
       "      <td>2.888209</td>\n",
       "      <td>23.920870</td>\n",
       "      <td>18.342506</td>\n",
       "      <td>24.993341</td>\n",
       "      <td>55.291498</td>\n",
       "      <td>38.907257</td>\n",
       "    </tr>\n",
       "    <tr>\n",
       "      <th>3</th>\n",
       "      <td>3</td>\n",
       "      <td>0.0</td>\n",
       "      <td>0.0</td>\n",
       "      <td>0.0</td>\n",
       "      <td>0.0</td>\n",
       "      <td>0.0</td>\n",
       "      <td>0.0</td>\n",
       "      <td>0.0</td>\n",
       "      <td>0.0</td>\n",
       "      <td>0.0</td>\n",
       "      <td>...</td>\n",
       "      <td>55.442267</td>\n",
       "      <td>16.083529</td>\n",
       "      <td>36.977612</td>\n",
       "      <td>5.199286</td>\n",
       "      <td>2.575347</td>\n",
       "      <td>21.073800</td>\n",
       "      <td>12.087171</td>\n",
       "      <td>18.608723</td>\n",
       "      <td>67.036197</td>\n",
       "      <td>43.142779</td>\n",
       "    </tr>\n",
       "    <tr>\n",
       "      <th>4</th>\n",
       "      <td>4</td>\n",
       "      <td>0.0</td>\n",
       "      <td>0.0</td>\n",
       "      <td>0.0</td>\n",
       "      <td>0.0</td>\n",
       "      <td>0.0</td>\n",
       "      <td>0.0</td>\n",
       "      <td>0.0</td>\n",
       "      <td>0.0</td>\n",
       "      <td>0.0</td>\n",
       "      <td>...</td>\n",
       "      <td>60.588783</td>\n",
       "      <td>19.503010</td>\n",
       "      <td>42.631236</td>\n",
       "      <td>11.549771</td>\n",
       "      <td>8.530551</td>\n",
       "      <td>15.896575</td>\n",
       "      <td>11.781634</td>\n",
       "      <td>15.065228</td>\n",
       "      <td>61.196518</td>\n",
       "      <td>43.574676</td>\n",
       "    </tr>\n",
       "  </tbody>\n",
       "</table>\n",
       "<p>5 rows × 94 columns</p>\n",
       "</div>"
      ],
      "text/plain": [
       "   id   AL   AK   AZ   AR   CA   CO   CT   FL   GA  ...     shop.2  \\\n",
       "0   0  0.0  0.0  0.0  0.0  0.0  1.0  0.0  0.0  0.0  ...  52.071090   \n",
       "1   1  0.0  0.0  0.0  0.0  0.0  0.0  0.0  0.0  0.0  ...  58.742461   \n",
       "2   2  0.0  0.0  0.0  0.0  0.0  0.0  0.0  0.0  0.0  ...  59.109045   \n",
       "3   3  0.0  0.0  0.0  0.0  0.0  0.0  0.0  0.0  0.0  ...  55.442267   \n",
       "4   4  0.0  0.0  0.0  0.0  0.0  0.0  0.0  0.0  0.0  ...  60.588783   \n",
       "\n",
       "   restaurant.2  spent_time.2  large_event.2  public_transit.2  anxious.2  \\\n",
       "0      8.624001     29.374792       5.391413          2.754804  19.695098   \n",
       "1     21.720187     41.375784       9.450179          3.150088  22.075715   \n",
       "2     20.123959     40.072556       8.781522          2.888209  23.920870   \n",
       "3     16.083529     36.977612       5.199286          2.575347  21.073800   \n",
       "4     19.503010     42.631236      11.549771          8.530551  15.896575   \n",
       "\n",
       "   depressed.2  felt_isolated.2  worried_become_ill.2  worried_finances.2  \n",
       "0    13.685645        24.747837             66.194950           44.873473  \n",
       "1    17.302077        23.559622             57.015009           38.372829  \n",
       "2    18.342506        24.993341             55.291498           38.907257  \n",
       "3    12.087171        18.608723             67.036197           43.142779  \n",
       "4    11.781634        15.065228             61.196518           43.574676  \n",
       "\n",
       "[5 rows x 94 columns]"
      ]
     },
     "execution_count": 24,
     "metadata": {},
     "output_type": "execute_result"
    }
   ],
   "source": [
    "tt_path = pd.read_csv(tt_path)\n",
    "tt_path.head()"
   ]
  },
  {
   "cell_type": "markdown",
   "metadata": {},
   "source": [
    "# select data"
   ]
  },
  {
   "cell_type": "code",
   "execution_count": 5,
   "metadata": {},
   "outputs": [
    {
     "data": {
      "text/plain": [
       "\"\\nchoose_column= data['wearing_mask.1','travel_outside_state.1']\\ntr_path =choose_column\\ntr_path\\n\""
      ]
     },
     "execution_count": 5,
     "metadata": {},
     "output_type": "execute_result"
    }
   ],
   "source": [
    "'''\n",
    "choose_column= data['wearing_mask.1','travel_outside_state.1']\n",
    "tr_path =choose_column\n",
    "tr_path\n",
    "'''"
   ]
  },
  {
   "cell_type": "markdown",
   "metadata": {
    "id": "wS_4-77xHk44"
   },
   "source": [
    "# **Import Some Packages**"
   ]
  },
  {
   "cell_type": "code",
   "execution_count": 101,
   "metadata": {
    "id": "k-onQd4JNA5H"
   },
   "outputs": [],
   "source": [
    "# PyTorch\n",
    "import torch\n",
    "import torch.nn as nn\n",
    "from torch.utils.data import Dataset, DataLoader\n",
    "\n",
    "# For data preprocess\n",
    "import numpy as np\n",
    "import csv\n",
    "import os\n",
    "\n",
    "# For plotting\n",
    "import matplotlib.pyplot as plt\n",
    "from matplotlib.pyplot import figure\n",
    "\n",
    "myseed = 42069  # set a random seed for reproducibility\n",
    "torch.backends.cudnn.deterministic = True\n",
    "torch.backends.cudnn.benchmark = False\n",
    "np.random.seed(myseed)\n",
    "torch.manual_seed(myseed)\n",
    "if torch.cuda.is_available():\n",
    "    torch.cuda.manual_seed_all(myseed)"
   ]
  },
  {
   "cell_type": "markdown",
   "metadata": {
    "id": "BtE3b6JEH7rw"
   },
   "source": [
    "# **Some Utilities**\n",
    "\n",
    "You do not need to modify this part."
   ]
  },
  {
   "cell_type": "code",
   "execution_count": 102,
   "metadata": {
    "id": "FWMT3uf1NGQp"
   },
   "outputs": [],
   "source": [
    "def get_device():\n",
    "    ''' Get device (if GPU is available, use GPU) '''\n",
    "    return 'cuda' if torch.cuda.is_available() else 'cpu'\n",
    "\n",
    "def plot_learning_curve(loss_record, title=''):\n",
    "    ''' Plot learning curve of your DNN (train & dev loss) '''\n",
    "    total_steps = len(loss_record['train'])\n",
    "    x_1 = range(total_steps)\n",
    "    x_2 = x_1[::len(loss_record['train']) // len(loss_record['dev'])]\n",
    "    figure(figsize=(6, 4))\n",
    "    plt.plot(x_1, loss_record['train'], c='tab:red', label='train')\n",
    "    plt.plot(x_2, loss_record['dev'], c='tab:cyan', label='dev')\n",
    "    plt.ylim(0.0, 5.)\n",
    "    plt.xlabel('Training steps')\n",
    "    plt.ylabel('MSE loss')\n",
    "    plt.title('Learning curve of {}'.format(title))\n",
    "    plt.legend()\n",
    "    plt.show()\n",
    "\n",
    "\n",
    "def plot_pred(dv_set, model, device, lim=35., preds=None, targets=None):\n",
    "    ''' Plot prediction of your DNN '''\n",
    "    if preds is None or targets is None:\n",
    "        model.eval()\n",
    "        preds, targets = [], []\n",
    "        for x, y in dv_set:\n",
    "            x, y = x.to(device), y.to(device)\n",
    "            with torch.no_grad():\n",
    "                pred = model(x)\n",
    "                preds.append(pred.detach().cpu())\n",
    "                targets.append(y.detach().cpu())\n",
    "        preds = torch.cat(preds, dim=0).numpy()\n",
    "        targets = torch.cat(targets, dim=0).numpy()\n",
    "\n",
    "    figure(figsize=(5, 5))\n",
    "    plt.scatter(targets, preds, c='r', alpha=0.5)\n",
    "    plt.plot([-0.2, lim], [-0.2, lim], c='b')\n",
    "    plt.xlim(-0.2, lim)\n",
    "    plt.ylim(-0.2, lim)\n",
    "    plt.xlabel('ground truth value')\n",
    "    plt.ylabel('predicted value')\n",
    "    plt.title('Ground Truth v.s. Prediction')\n",
    "    plt.show()"
   ]
  },
  {
   "cell_type": "markdown",
   "metadata": {
    "id": "39U_XFX6KOoj"
   },
   "source": [
    "# **Preprocess**\n",
    "\n",
    "We have three kinds of datasets:\n",
    "* `train`: for training\n",
    "* `dev`: for validation\n",
    "* `test`: for testing (w/o target value)"
   ]
  },
  {
   "cell_type": "markdown",
   "metadata": {
    "id": "TQ-MdwpLL7Dt"
   },
   "source": [
    "## **Dataset**\n",
    "\n",
    "The `COVID19Dataset` below does:\n",
    "* read `.csv` files\n",
    "* extract features\n",
    "* split `covid.train.csv` into train/dev sets\n",
    "* normalize features\n",
    "\n",
    "Finishing `TODO` below might make you pass medium baseline."
   ]
  },
  {
   "cell_type": "code",
   "execution_count": 103,
   "metadata": {
    "id": "0zlpIp9ANJRU"
   },
   "outputs": [],
   "source": [
    "class COVID19Dataset(Dataset):\n",
    "    ''' Dataset for loading and preprocessing the COVID19 dataset '''\n",
    "    def __init__(self,\n",
    "                 path,\n",
    "                 mode='train',\n",
    "                 target_only=False):\n",
    "        self.mode = mode\n",
    "\n",
    "        # Read data into numpy arrays\n",
    "        with open(path, 'r') as fp:\n",
    "            data = list(csv.reader(fp))\n",
    "            data = np.array(data[1:])[:, 1:].astype(float)\n",
    "        \n",
    "        if not target_only:\n",
    "            feats = list(range(93))\n",
    "        else:\n",
    "            # TODO: Using 40 states & 2 tested_positive features (indices = 57 & 75)\n",
    "            pass\n",
    "\n",
    "        if mode == 'test':\n",
    "            # Testing data\n",
    "            # data: 893 x 93 (40 states + day 1 (18) + day 2 (18) + day 3 (17))\n",
    "            data = data[:, feats]\n",
    "            self.data = torch.FloatTensor(data)\n",
    "        else:\n",
    "            # Training data (train/dev sets)\n",
    "            # data: 2700 x 94 (40 states + day 1 (18) + day 2 (18) + day 3 (18))\n",
    "            target = data[:, -1]\n",
    "            data = data[:, feats]\n",
    "            \n",
    "            # Splitting training data into train & dev sets\n",
    "            if mode == 'train':\n",
    "                indices = [i for i in range(len(data)) if i % 10 != 0]\n",
    "            elif mode == 'dev':\n",
    "                indices = [i for i in range(len(data)) if i % 10 == 0]\n",
    "            \n",
    "            # Convert data into PyTorch tensors\n",
    "            self.data = torch.FloatTensor(data[indices])\n",
    "            self.target = torch.FloatTensor(target[indices])\n",
    "\n",
    "        # Normalize features (you may remove this part to see what will happen)\n",
    "        self.data[:, 40:] = \\\n",
    "            (self.data[:, 40:] - self.data[:, 40:].mean(dim=0, keepdim=True)) \\\n",
    "            / self.data[:, 40:].std(dim=0, keepdim=True)\n",
    "\n",
    "        self.dim = self.data.shape[1]\n",
    "\n",
    "        print('Finished reading the {} set of COVID19 Dataset ({} samples found, each dim = {})'\n",
    "              .format(mode, len(self.data), self.dim))\n",
    "\n",
    "    def __getitem__(self, index):\n",
    "        # Returns one sample at a time\n",
    "        if self.mode in ['train', 'dev']:\n",
    "            # For training\n",
    "            return self.data[index], self.target[index]\n",
    "        else:\n",
    "            # For testing (no target)\n",
    "            return self.data[index]\n",
    "\n",
    "    def __len__(self):\n",
    "        # Returns the size of the dataset\n",
    "        return len(self.data)"
   ]
  },
  {
   "cell_type": "markdown",
   "metadata": {
    "id": "AlhTlkE7MDo3"
   },
   "source": [
    "## **DataLoader**\n",
    "\n",
    "A `DataLoader` loads data from a given `Dataset` into batches.\n"
   ]
  },
  {
   "cell_type": "code",
   "execution_count": 104,
   "metadata": {
    "id": "hlhLk5t6MBX3"
   },
   "outputs": [],
   "source": [
    "def prep_dataloader(path, mode, batch_size, n_jobs=0, target_only=False):\n",
    "    ''' Generates a dataset, then is put into a dataloader. '''\n",
    "    dataset = COVID19Dataset(path, mode=mode, target_only=target_only)  # Construct dataset\n",
    "    dataloader = DataLoader(\n",
    "        dataset, batch_size,\n",
    "        shuffle=(mode == 'train'), drop_last=False,\n",
    "        num_workers=n_jobs, pin_memory=True)                            # Construct dataloader\n",
    "    return dataloader"
   ]
  },
  {
   "cell_type": "markdown",
   "metadata": {
    "id": "SGuycwR0MeQB"
   },
   "source": [
    "# **Deep Neural Network**\n",
    "\n",
    "`NeuralNet` is an `nn.Module` designed for regression.\n",
    "The DNN consists of 2 fully-connected layers with ReLU activation.\n",
    "This module also included a function `cal_loss` for calculating loss.\n"
   ]
  },
  {
   "cell_type": "code",
   "execution_count": 57,
   "metadata": {
    "id": "49-uXYovOAI0"
   },
   "outputs": [],
   "source": [
    "class NeuralNet(nn.Module):\n",
    "    ''' A simple fully-connected deep neural network '''\n",
    "    def __init__(self, input_dim):\n",
    "        super(NeuralNet, self).__init__()\n",
    "\n",
    "        # Define your neural network here\n",
    "        # TODO: How to modify this model to achieve better performance?\n",
    "        self.net = nn.Sequential(\n",
    "            nn.Linear(input_dim, 64),\n",
    "            nn.ReLU(),\n",
    "            nn.Linear(64, 1)\n",
    "        )\n",
    "\n",
    "        # Mean squared error loss\n",
    "        self.criterion = nn.MSELoss(reduction='mean')\n",
    "\n",
    "    def forward(self, x):\n",
    "        ''' Given input of size (batch_size x input_dim), compute output of the network '''\n",
    "        return self.net(x).squeeze(1)\n",
    "\n",
    "    def cal_loss(self, pred, target):\n",
    "        ''' Calculate loss '''\n",
    "        # TODO: you may implement L1/L2 regularization here\n",
    "        return self.criterion(pred, target)"
   ]
  },
  {
   "cell_type": "markdown",
   "metadata": {},
   "source": [
    "# 128 Neural"
   ]
  },
  {
   "cell_type": "code",
   "execution_count": 52,
   "metadata": {},
   "outputs": [],
   "source": [
    "class NeuralNet(nn.Module):\n",
    "    ''' A simple fully-connected deep neural network '''\n",
    "    def __init__(self, input_dim):\n",
    "        super(NeuralNet, self).__init__()\n",
    "\n",
    "        # Define your neural network here\n",
    "        # TODO: How to modify this model to achieve better performance?\n",
    "        self.net = nn.Sequential(\n",
    "            nn.Linear(input_dim, 128),\n",
    "            nn.ReLU(),\n",
    "            nn.Linear(128, 1)\n",
    "        )\n",
    "\n",
    "        # Mean squared error loss\n",
    "        self.criterion = nn.MSELoss(reduction='mean')\n",
    "\n",
    "    def forward(self, x):\n",
    "        ''' Given input of size (batch_size x input_dim), compute output of the network '''\n",
    "        return self.net(x).squeeze(1)\n",
    "\n",
    "    def cal_loss(self, pred, target):\n",
    "        ''' Calculate loss '''\n",
    "        # TODO: you may implement L1/L2 regularization here\n",
    "        return self.criterion(pred, target)"
   ]
  },
  {
   "cell_type": "markdown",
   "metadata": {},
   "source": [
    "# 256 Neural"
   ]
  },
  {
   "cell_type": "code",
   "execution_count": 105,
   "metadata": {},
   "outputs": [],
   "source": [
    "class NeuralNet(nn.Module):\n",
    "    ''' A simple fully-connected deep neural network '''\n",
    "    def __init__(self, input_dim):\n",
    "        super(NeuralNet, self).__init__()\n",
    "\n",
    "        # Define your neural network here\n",
    "        # TODO: How to modify this model to achieve better performance?\n",
    "        self.net = nn.Sequential(\n",
    "            nn.Linear(input_dim, 256),\n",
    "            nn.ReLU(),\n",
    "            nn.Linear(256, 1)\n",
    "        )\n",
    "\n",
    "        # Mean squared error loss\n",
    "        self.criterion = nn.MSELoss(reduction='mean')\n",
    "\n",
    "    def forward(self, x):\n",
    "        ''' Given input of size (batch_size x input_dim), compute output of the network '''\n",
    "        return self.net(x).squeeze(1)\n",
    "\n",
    "    def cal_loss(self, pred, target):\n",
    "        ''' Calculate loss '''\n",
    "        # TODO: you may implement L1/L2 regularization here\n",
    "        return self.criterion(pred, target)"
   ]
  },
  {
   "cell_type": "markdown",
   "metadata": {
    "id": "DvFWVjZ5Nvga"
   },
   "source": [
    "# **Train/Dev/Test**"
   ]
  },
  {
   "cell_type": "markdown",
   "metadata": {
    "id": "MAM8QecJOyqn"
   },
   "source": [
    "## **Training**"
   ]
  },
  {
   "cell_type": "code",
   "execution_count": 106,
   "metadata": {
    "id": "lOqcmYzMO7jB"
   },
   "outputs": [],
   "source": [
    "def train(tr_set, dv_set, model, config, device):\n",
    "    ''' DNN training '''\n",
    "\n",
    "    n_epochs = config['n_epochs']  # Maximum number of epochs\n",
    "\n",
    "    # Setup optimizer\n",
    "    optimizer = getattr(torch.optim, config['optimizer'])(\n",
    "        model.parameters(), **config['optim_hparas'])\n",
    "\n",
    "    min_mse = 1000.\n",
    "    loss_record = {'train': [], 'dev': []}      # for recording training loss\n",
    "    early_stop_cnt = 0\n",
    "    epoch = 0\n",
    "    while epoch < n_epochs:\n",
    "        model.train()                           # set model to training mode\n",
    "        for x, y in tr_set:                     # iterate through the dataloader\n",
    "            optimizer.zero_grad()               # set gradient to zero\n",
    "            x, y = x.to(device), y.to(device)   # move data to device (cpu/cuda)\n",
    "            pred = model(x)                     # forward pass (compute output)\n",
    "            mse_loss = model.cal_loss(pred, y)  # compute loss\n",
    "            mse_loss.backward()                 # compute gradient (backpropagation)\n",
    "            optimizer.step()                    # update model with optimizer\n",
    "            loss_record['train'].append(mse_loss.detach().cpu().item())\n",
    "\n",
    "        # After each epoch, test your model on the validation (development) set.\n",
    "        dev_mse = dev(dv_set, model, device)\n",
    "        if dev_mse < min_mse:\n",
    "            # Save model if your model improved\n",
    "            min_mse = dev_mse\n",
    "            print('Saving model (epoch = {:4d}, loss = {:.4f})'\n",
    "                .format(epoch + 1, min_mse))\n",
    "            torch.save(model.state_dict(), config['save_path'])  # Save model to specified path\n",
    "            early_stop_cnt = 0\n",
    "        else:\n",
    "            early_stop_cnt += 1\n",
    "\n",
    "        epoch += 1\n",
    "        loss_record['dev'].append(dev_mse)\n",
    "        if early_stop_cnt > config['early_stop']:\n",
    "            # Stop training if your model stops improving for \"config['early_stop']\" epochs.\n",
    "            break\n",
    "\n",
    "    print('Finished training after {} epochs'.format(epoch))\n",
    "    return min_mse, loss_record"
   ]
  },
  {
   "cell_type": "markdown",
   "metadata": {
    "id": "0hSd4Bn3O2PL"
   },
   "source": [
    "## **Validation**"
   ]
  },
  {
   "cell_type": "code",
   "execution_count": 107,
   "metadata": {
    "id": "yrxrD3YsN3U2"
   },
   "outputs": [],
   "source": [
    "def dev(dv_set, model, device):\n",
    "    model.eval()                                # set model to evalutation mode\n",
    "    total_loss = 0\n",
    "    for x, y in dv_set:                         # iterate through the dataloader\n",
    "        x, y = x.to(device), y.to(device)       # move data to device (cpu/cuda)\n",
    "        with torch.no_grad():                   # disable gradient calculation\n",
    "            pred = model(x)                     # forward pass (compute output)\n",
    "            mse_loss = model.cal_loss(pred, y)  # compute loss\n",
    "        total_loss += mse_loss.detach().cpu().item() * len(x)  # accumulate loss\n",
    "    total_loss = total_loss / len(dv_set.dataset)              # compute averaged loss\n",
    "\n",
    "    return total_loss"
   ]
  },
  {
   "cell_type": "markdown",
   "metadata": {
    "id": "g0pdrhQAO41L"
   },
   "source": [
    "## **Testing**"
   ]
  },
  {
   "cell_type": "code",
   "execution_count": 108,
   "metadata": {
    "id": "aSBMRFlYN5tB"
   },
   "outputs": [],
   "source": [
    "def test(tt_set, model, device):\n",
    "    model.eval()                                # set model to evalutation mode\n",
    "    preds = []\n",
    "    for x in tt_set:                            # iterate through the dataloader\n",
    "        x = x.to(device)                        # move data to device (cpu/cuda)\n",
    "        with torch.no_grad():                   # disable gradient calculation\n",
    "            pred = model(x)                     # forward pass (compute output)\n",
    "            preds.append(pred.detach().cpu())   # collect prediction\n",
    "    preds = torch.cat(preds, dim=0).numpy()     # concatenate all predictions and convert to a numpy array\n",
    "    return preds"
   ]
  },
  {
   "cell_type": "markdown",
   "metadata": {
    "id": "SvckkF5dvf0j"
   },
   "source": [
    "# **Setup Hyper-parameters**\n",
    "\n",
    "`config` contains hyper-parameters for training and the path to save your model."
   ]
  },
  {
   "cell_type": "code",
   "execution_count": 61,
   "metadata": {
    "id": "NPXpdumwPjE7"
   },
   "outputs": [],
   "source": [
    "device = get_device()                 # get the current available device ('cpu' or 'cuda')\n",
    "os.makedirs('models', exist_ok=True)  # The trained model will be saved to ./models/\n",
    "target_only = False                   # TODO: Using 40 states & 2 tested_positive features\n",
    "\n",
    "# TODO: How to tune these hyper-parameters to improve your model's performance?\n",
    "config = {\n",
    "    'n_epochs': 3000,                # maximum number of epochs\n",
    "    'batch_size': 270,               # mini-batch size for dataloader\n",
    "    'optimizer': 'SGD',              # optimization algorithm (optimizer in torch.optim)\n",
    "    'optim_hparas': {                # hyper-parameters for the optimizer (depends on which optimizer you are using)\n",
    "        'lr': 0.001,                 # learning rate of SGD\n",
    "        'momentum': 0.9              # momentum for SGD\n",
    "    },\n",
    "    'early_stop': 200,               # early stopping epochs (the number epochs since your model's last improvement)\n",
    "    'save_path': 'models/model.pth'  # your model will be saved here\n",
    "}"
   ]
  },
  {
   "cell_type": "markdown",
   "metadata": {},
   "source": [
    "# change optim Adam"
   ]
  },
  {
   "cell_type": "code",
   "execution_count": 16,
   "metadata": {},
   "outputs": [],
   "source": [
    "device = get_device()                 # get the current available device ('cpu' or 'cuda')\n",
    "os.makedirs('models', exist_ok=True)  # The trained model will be saved to ./models/\n",
    "target_only = False                   # TODO: Using 40 states & 2 tested_positive features\n",
    "\n",
    "# TODO: How to tune these hyper-parameters to improve your model's performance?\n",
    "config = {\n",
    "    'n_epochs': 3000,                # maximum number of epochs\n",
    "    'batch_size': 270,               # mini-batch size for dataloader\n",
    "    'optimizer': 'Adam',              # optimization algorithm (optimizer in torch.optim)\n",
    "    'optim_hparas': {                # hyper-parameters for the optimizer (depends on which optimizer you are using)\n",
    "        'lr': 0.001                 # learning rate of SGD\n",
    "                     # momentum for SGD\n",
    "    },\n",
    "    'early_stop': 200,               # early stopping epochs (the number epochs since your model's last improvement)\n",
    "    'save_path': 'models/model.pth'  # your model will be saved here\n",
    "}"
   ]
  },
  {
   "cell_type": "markdown",
   "metadata": {},
   "source": [
    "# change Betch_size 1"
   ]
  },
  {
   "cell_type": "code",
   "execution_count": 76,
   "metadata": {},
   "outputs": [],
   "source": [
    "device = get_device()                 # get the current available device ('cpu' or 'cuda')\n",
    "os.makedirs('models', exist_ok=True)  # The trained model will be saved to ./models/\n",
    "target_only = False                   # TODO: Using 40 states & 2 tested_positive features\n",
    "\n",
    "# TODO: How to tune these hyper-parameters to improve your model's performance?\n",
    "config = {\n",
    "    'n_epochs': 3000,                # maximum number of epochs\n",
    "    'batch_size': 1,               # mini-batch size for dataloader\n",
    "    'optimizer': 'Adam',              # optimization algorithm (optimizer in torch.optim)\n",
    "    'optim_hparas': {                # hyper-parameters for the optimizer (depends on which optimizer you are using)\n",
    "        'lr': 0.001                 # learning rate of SGD\n",
    "                     # momentum for SGD\n",
    "    },\n",
    "    'early_stop': 200,               # early stopping epochs (the number epochs since your model's last improvement)\n",
    "    'save_path': 'models/model.pth'  # your model will be saved here\n",
    "}"
   ]
  },
  {
   "cell_type": "markdown",
   "metadata": {},
   "source": [
    "# change Betch_size 16"
   ]
  },
  {
   "cell_type": "code",
   "execution_count": 92,
   "metadata": {},
   "outputs": [],
   "source": [
    "device = get_device()                 # get the current available device ('cpu' or 'cuda')\n",
    "os.makedirs('models', exist_ok=True)  # The trained model will be saved to ./models/\n",
    "target_only = False                   # TODO: Using 40 states & 2 tested_positive features\n",
    "\n",
    "# TODO: How to tune these hyper-parameters to improve your model's performance?\n",
    "config = {\n",
    "    'n_epochs': 3000,                # maximum number of epochs\n",
    "    'batch_size': 16,               # mini-batch size for dataloader\n",
    "    'optimizer': 'Adam',              # optimization algorithm (optimizer in torch.optim)\n",
    "    'optim_hparas': {                # hyper-parameters for the optimizer (depends on which optimizer you are using)\n",
    "        'lr': 0.001                 # learning rate of SGD\n",
    "                     # momentum for SGD\n",
    "    },\n",
    "    'early_stop': 200,               # early stopping epochs (the number epochs since your model's last improvement)\n",
    "    'save_path': 'models/model.pth'  # your model will be saved here\n",
    "}"
   ]
  },
  {
   "cell_type": "markdown",
   "metadata": {},
   "source": [
    "# change Betch_size 32"
   ]
  },
  {
   "cell_type": "code",
   "execution_count": 109,
   "metadata": {},
   "outputs": [],
   "source": [
    "device = get_device()                 # get the current available device ('cpu' or 'cuda')\n",
    "os.makedirs('models', exist_ok=True)  # The trained model will be saved to ./models/\n",
    "target_only = False                   # TODO: Using 40 states & 2 tested_positive features\n",
    "\n",
    "# TODO: How to tune these hyper-parameters to improve your model's performance?\n",
    "config = {\n",
    "    'n_epochs': 3000,                # maximum number of epochs\n",
    "    'batch_size': 32,               # mini-batch size for dataloader\n",
    "    'optimizer': 'Adam',              # optimization algorithm (optimizer in torch.optim)\n",
    "    'optim_hparas': {                # hyper-parameters for the optimizer (depends on which optimizer you are using)\n",
    "        'lr': 0.001                 # learning rate of SGD\n",
    "                     # momentum for SGD\n",
    "    },\n",
    "    'early_stop': 200,               # early stopping epochs (the number epochs since your model's last improvement)\n",
    "    'save_path': 'models/model.pth'  # your model will be saved here\n",
    "}"
   ]
  },
  {
   "cell_type": "markdown",
   "metadata": {
    "id": "6j1eOV3TOH-j"
   },
   "source": [
    "# **Load data and model**"
   ]
  },
  {
   "cell_type": "code",
   "execution_count": 110,
   "metadata": {
    "colab": {
     "base_uri": "https://localhost:8080/"
    },
    "id": "eNrYBMmePLKm",
    "outputId": "fcd4f175-4f7e-4306-f33c-5f8285f11dce"
   },
   "outputs": [
    {
     "name": "stdout",
     "output_type": "stream",
     "text": [
      "Finished reading the train set of COVID19 Dataset (2430 samples found, each dim = 93)\n",
      "Finished reading the dev set of COVID19 Dataset (270 samples found, each dim = 93)\n",
      "Finished reading the test set of COVID19 Dataset (893 samples found, each dim = 93)\n"
     ]
    }
   ],
   "source": [
    "#data = data.astype(str)\n",
    "tr_set = prep_dataloader(data, 'train', config['batch_size'], target_only=target_only)\n",
    "dv_set = prep_dataloader(data, 'dev', config['batch_size'], target_only=target_only)\n",
    "tt_set = prep_dataloader(tt_path, 'test', config['batch_size'], target_only=target_only)"
   ]
  },
  {
   "cell_type": "code",
   "execution_count": 111,
   "metadata": {
    "id": "FHylSirLP9oh"
   },
   "outputs": [],
   "source": [
    "model = NeuralNet(tr_set.dataset.dim).to(device)  # Construct model and move to device"
   ]
  },
  {
   "cell_type": "markdown",
   "metadata": {
    "id": "sX2B_zgSOPTJ"
   },
   "source": [
    "# **Start Training!**"
   ]
  },
  {
   "cell_type": "code",
   "execution_count": 64,
   "metadata": {
    "colab": {
     "base_uri": "https://localhost:8080/"
    },
    "id": "GrEbUxazQAAZ",
    "outputId": "f4f3bd74-2d97-4275-b69f-6609976b91f9"
   },
   "outputs": [
    {
     "name": "stdout",
     "output_type": "stream",
     "text": [
      "Saving model (epoch =    1, loss = 78.8524)\n",
      "Saving model (epoch =    2, loss = 37.6170)\n",
      "Saving model (epoch =    3, loss = 26.1203)\n",
      "Saving model (epoch =    4, loss = 16.1862)\n",
      "Saving model (epoch =    5, loss = 9.7153)\n",
      "Saving model (epoch =    6, loss = 6.3701)\n",
      "Saving model (epoch =    7, loss = 5.1802)\n",
      "Saving model (epoch =    8, loss = 4.4255)\n",
      "Saving model (epoch =    9, loss = 3.8009)\n",
      "Saving model (epoch =   10, loss = 3.3691)\n",
      "Saving model (epoch =   11, loss = 3.0943)\n",
      "Saving model (epoch =   12, loss = 2.8176)\n",
      "Saving model (epoch =   13, loss = 2.6274)\n",
      "Saving model (epoch =   14, loss = 2.4542)\n",
      "Saving model (epoch =   15, loss = 2.3012)\n",
      "Saving model (epoch =   16, loss = 2.1766)\n",
      "Saving model (epoch =   17, loss = 2.0641)\n",
      "Saving model (epoch =   18, loss = 1.9399)\n",
      "Saving model (epoch =   19, loss = 1.8978)\n",
      "Saving model (epoch =   20, loss = 1.7950)\n",
      "Saving model (epoch =   21, loss = 1.7164)\n",
      "Saving model (epoch =   22, loss = 1.6455)\n",
      "Saving model (epoch =   23, loss = 1.5912)\n",
      "Saving model (epoch =   24, loss = 1.5599)\n",
      "Saving model (epoch =   25, loss = 1.5197)\n",
      "Saving model (epoch =   26, loss = 1.4698)\n",
      "Saving model (epoch =   27, loss = 1.4189)\n",
      "Saving model (epoch =   28, loss = 1.3992)\n",
      "Saving model (epoch =   29, loss = 1.3696)\n",
      "Saving model (epoch =   30, loss = 1.3442)\n",
      "Saving model (epoch =   31, loss = 1.3231)\n",
      "Saving model (epoch =   32, loss = 1.2834)\n",
      "Saving model (epoch =   33, loss = 1.2804)\n",
      "Saving model (epoch =   34, loss = 1.2471)\n",
      "Saving model (epoch =   36, loss = 1.2414)\n",
      "Saving model (epoch =   37, loss = 1.2138)\n",
      "Saving model (epoch =   38, loss = 1.2083)\n",
      "Saving model (epoch =   41, loss = 1.1591)\n",
      "Saving model (epoch =   42, loss = 1.1484)\n",
      "Saving model (epoch =   44, loss = 1.1209)\n",
      "Saving model (epoch =   47, loss = 1.1122)\n",
      "Saving model (epoch =   48, loss = 1.0937)\n",
      "Saving model (epoch =   50, loss = 1.0842)\n",
      "Saving model (epoch =   53, loss = 1.0655)\n",
      "Saving model (epoch =   54, loss = 1.0613)\n",
      "Saving model (epoch =   57, loss = 1.0524)\n",
      "Saving model (epoch =   58, loss = 1.0394)\n",
      "Saving model (epoch =   60, loss = 1.0267)\n",
      "Saving model (epoch =   63, loss = 1.0248)\n",
      "Saving model (epoch =   66, loss = 1.0099)\n",
      "Saving model (epoch =   70, loss = 0.9829)\n",
      "Saving model (epoch =   72, loss = 0.9817)\n",
      "Saving model (epoch =   73, loss = 0.9743)\n",
      "Saving model (epoch =   75, loss = 0.9671)\n",
      "Saving model (epoch =   78, loss = 0.9643)\n",
      "Saving model (epoch =   79, loss = 0.9597)\n",
      "Saving model (epoch =   85, loss = 0.9550)\n",
      "Saving model (epoch =   86, loss = 0.9535)\n",
      "Saving model (epoch =   90, loss = 0.9466)\n",
      "Saving model (epoch =   92, loss = 0.9432)\n",
      "Saving model (epoch =   93, loss = 0.9231)\n",
      "Saving model (epoch =   95, loss = 0.9127)\n",
      "Saving model (epoch =  104, loss = 0.9117)\n",
      "Saving model (epoch =  107, loss = 0.8996)\n",
      "Saving model (epoch =  110, loss = 0.8937)\n",
      "Saving model (epoch =  116, loss = 0.8885)\n",
      "Saving model (epoch =  124, loss = 0.8872)\n",
      "Saving model (epoch =  128, loss = 0.8724)\n",
      "Saving model (epoch =  134, loss = 0.8722)\n",
      "Saving model (epoch =  139, loss = 0.8675)\n",
      "Saving model (epoch =  146, loss = 0.8654)\n",
      "Saving model (epoch =  156, loss = 0.8640)\n",
      "Saving model (epoch =  159, loss = 0.8525)\n",
      "Saving model (epoch =  167, loss = 0.8496)\n",
      "Saving model (epoch =  173, loss = 0.8490)\n",
      "Saving model (epoch =  176, loss = 0.8458)\n",
      "Saving model (epoch =  178, loss = 0.8405)\n",
      "Saving model (epoch =  182, loss = 0.8371)\n",
      "Saving model (epoch =  199, loss = 0.8298)\n",
      "Saving model (epoch =  212, loss = 0.8274)\n",
      "Saving model (epoch =  235, loss = 0.8249)\n",
      "Saving model (epoch =  238, loss = 0.8232)\n",
      "Saving model (epoch =  251, loss = 0.8208)\n",
      "Saving model (epoch =  253, loss = 0.8202)\n",
      "Saving model (epoch =  258, loss = 0.8175)\n",
      "Saving model (epoch =  284, loss = 0.8139)\n",
      "Saving model (epoch =  308, loss = 0.8136)\n",
      "Saving model (epoch =  312, loss = 0.8076)\n",
      "Saving model (epoch =  324, loss = 0.8042)\n",
      "Saving model (epoch =  400, loss = 0.8039)\n",
      "Saving model (epoch =  404, loss = 0.8007)\n",
      "Saving model (epoch =  466, loss = 0.7999)\n",
      "Saving model (epoch =  472, loss = 0.7998)\n",
      "Saving model (epoch =  525, loss = 0.7990)\n",
      "Saving model (epoch =  561, loss = 0.7945)\n",
      "Saving model (epoch =  584, loss = 0.7902)\n",
      "Saving model (epoch =  667, loss = 0.7900)\n",
      "Saving model (epoch =  717, loss = 0.7827)\n",
      "Saving model (epoch =  776, loss = 0.7816)\n",
      "Saving model (epoch =  835, loss = 0.7797)\n",
      "Saving model (epoch =  866, loss = 0.7771)\n",
      "Saving model (epoch =  933, loss = 0.7749)\n",
      "Saving model (epoch =  965, loss = 0.7711)\n",
      "Saving model (epoch = 1027, loss = 0.7685)\n",
      "Saving model (epoch = 1119, loss = 0.7672)\n",
      "Saving model (epoch = 1140, loss = 0.7656)\n",
      "Saving model (epoch = 1196, loss = 0.7618)\n",
      "Saving model (epoch = 1243, loss = 0.7592)\n",
      "Finished training after 1444 epochs\n"
     ]
    }
   ],
   "source": [
    "model_loss, model_loss_record = train(tr_set, dv_set, model, config, device)"
   ]
  },
  {
   "cell_type": "markdown",
   "metadata": {},
   "source": [
    "# 128"
   ]
  },
  {
   "cell_type": "code",
   "execution_count": 59,
   "metadata": {
    "scrolled": true
   },
   "outputs": [
    {
     "name": "stdout",
     "output_type": "stream",
     "text": [
      "Saving model (epoch =    1, loss = 38.2027)\n",
      "Saving model (epoch =    3, loss = 20.5664)\n",
      "Saving model (epoch =    4, loss = 9.0663)\n",
      "Saving model (epoch =    5, loss = 7.5639)\n",
      "Saving model (epoch =    6, loss = 6.2694)\n",
      "Saving model (epoch =    7, loss = 4.9485)\n",
      "Saving model (epoch =    8, loss = 3.8689)\n",
      "Saving model (epoch =    9, loss = 3.4882)\n",
      "Saving model (epoch =   10, loss = 3.2672)\n",
      "Saving model (epoch =   11, loss = 2.8618)\n",
      "Saving model (epoch =   12, loss = 2.7460)\n",
      "Saving model (epoch =   13, loss = 2.4874)\n",
      "Saving model (epoch =   14, loss = 2.3687)\n",
      "Saving model (epoch =   15, loss = 2.2131)\n",
      "Saving model (epoch =   16, loss = 2.1563)\n",
      "Saving model (epoch =   17, loss = 2.0396)\n",
      "Saving model (epoch =   18, loss = 1.9815)\n",
      "Saving model (epoch =   19, loss = 1.8692)\n",
      "Saving model (epoch =   20, loss = 1.8018)\n",
      "Saving model (epoch =   21, loss = 1.7445)\n",
      "Saving model (epoch =   22, loss = 1.6790)\n",
      "Saving model (epoch =   23, loss = 1.6319)\n",
      "Saving model (epoch =   24, loss = 1.5861)\n",
      "Saving model (epoch =   25, loss = 1.5373)\n",
      "Saving model (epoch =   26, loss = 1.5228)\n",
      "Saving model (epoch =   27, loss = 1.4750)\n",
      "Saving model (epoch =   28, loss = 1.4301)\n",
      "Saving model (epoch =   30, loss = 1.3910)\n",
      "Saving model (epoch =   31, loss = 1.3477)\n",
      "Saving model (epoch =   33, loss = 1.3136)\n",
      "Saving model (epoch =   34, loss = 1.2813)\n",
      "Saving model (epoch =   36, loss = 1.2478)\n",
      "Saving model (epoch =   38, loss = 1.2138)\n",
      "Saving model (epoch =   40, loss = 1.1723)\n",
      "Saving model (epoch =   42, loss = 1.1624)\n",
      "Saving model (epoch =   43, loss = 1.1603)\n",
      "Saving model (epoch =   44, loss = 1.1394)\n",
      "Saving model (epoch =   45, loss = 1.1221)\n",
      "Saving model (epoch =   47, loss = 1.0984)\n",
      "Saving model (epoch =   48, loss = 1.0821)\n",
      "Saving model (epoch =   50, loss = 1.0685)\n",
      "Saving model (epoch =   52, loss = 1.0634)\n",
      "Saving model (epoch =   53, loss = 1.0477)\n",
      "Saving model (epoch =   55, loss = 1.0365)\n",
      "Saving model (epoch =   56, loss = 1.0251)\n",
      "Saving model (epoch =   58, loss = 1.0016)\n",
      "Saving model (epoch =   61, loss = 0.9946)\n",
      "Saving model (epoch =   65, loss = 0.9780)\n",
      "Saving model (epoch =   66, loss = 0.9747)\n",
      "Saving model (epoch =   69, loss = 0.9590)\n",
      "Saving model (epoch =   71, loss = 0.9499)\n",
      "Saving model (epoch =   77, loss = 0.9373)\n",
      "Saving model (epoch =   80, loss = 0.9246)\n",
      "Saving model (epoch =   82, loss = 0.9205)\n",
      "Saving model (epoch =   84, loss = 0.9197)\n",
      "Saving model (epoch =   85, loss = 0.9007)\n",
      "Saving model (epoch =   88, loss = 0.8936)\n",
      "Saving model (epoch =   93, loss = 0.8904)\n",
      "Saving model (epoch =   95, loss = 0.8874)\n",
      "Saving model (epoch =   99, loss = 0.8788)\n",
      "Saving model (epoch =  103, loss = 0.8769)\n",
      "Saving model (epoch =  105, loss = 0.8767)\n",
      "Saving model (epoch =  108, loss = 0.8719)\n",
      "Saving model (epoch =  110, loss = 0.8693)\n",
      "Saving model (epoch =  112, loss = 0.8580)\n",
      "Saving model (epoch =  113, loss = 0.8570)\n",
      "Saving model (epoch =  119, loss = 0.8473)\n",
      "Saving model (epoch =  122, loss = 0.8452)\n",
      "Saving model (epoch =  125, loss = 0.8302)\n",
      "Saving model (epoch =  135, loss = 0.8227)\n",
      "Saving model (epoch =  147, loss = 0.8225)\n",
      "Saving model (epoch =  152, loss = 0.8196)\n",
      "Saving model (epoch =  158, loss = 0.8170)\n",
      "Saving model (epoch =  160, loss = 0.8143)\n",
      "Saving model (epoch =  162, loss = 0.8137)\n",
      "Saving model (epoch =  170, loss = 0.8088)\n",
      "Saving model (epoch =  185, loss = 0.8079)\n",
      "Saving model (epoch =  187, loss = 0.8064)\n",
      "Saving model (epoch =  192, loss = 0.8050)\n",
      "Saving model (epoch =  195, loss = 0.7960)\n",
      "Saving model (epoch =  209, loss = 0.7942)\n",
      "Saving model (epoch =  227, loss = 0.7923)\n",
      "Saving model (epoch =  237, loss = 0.7879)\n",
      "Saving model (epoch =  256, loss = 0.7871)\n",
      "Saving model (epoch =  264, loss = 0.7853)\n",
      "Saving model (epoch =  289, loss = 0.7788)\n",
      "Saving model (epoch =  298, loss = 0.7758)\n",
      "Saving model (epoch =  301, loss = 0.7745)\n",
      "Saving model (epoch =  314, loss = 0.7721)\n",
      "Saving model (epoch =  328, loss = 0.7716)\n",
      "Saving model (epoch =  336, loss = 0.7705)\n",
      "Saving model (epoch =  350, loss = 0.7677)\n",
      "Saving model (epoch =  371, loss = 0.7652)\n",
      "Saving model (epoch =  389, loss = 0.7648)\n",
      "Saving model (epoch =  390, loss = 0.7641)\n",
      "Saving model (epoch =  515, loss = 0.7606)\n",
      "Saving model (epoch =  541, loss = 0.7590)\n",
      "Saving model (epoch =  580, loss = 0.7546)\n",
      "Saving model (epoch =  598, loss = 0.7539)\n",
      "Finished training after 799 epochs\n"
     ]
    }
   ],
   "source": [
    "model_loss, model_loss_record = train(tr_set, dv_set, model, config, device)"
   ]
  },
  {
   "cell_type": "markdown",
   "metadata": {},
   "source": [
    "# 256"
   ]
  },
  {
   "cell_type": "code",
   "execution_count": 208,
   "metadata": {},
   "outputs": [
    {
     "name": "stdout",
     "output_type": "stream",
     "text": [
      "Saving model (epoch =    1, loss = 38.5879)\n",
      "Saving model (epoch =    2, loss = 35.4151)\n",
      "Saving model (epoch =    3, loss = 11.4263)\n",
      "Saving model (epoch =    5, loss = 7.5308)\n",
      "Saving model (epoch =    6, loss = 5.2419)\n",
      "Saving model (epoch =    7, loss = 4.3194)\n",
      "Saving model (epoch =    8, loss = 3.8057)\n",
      "Saving model (epoch =    9, loss = 3.3251)\n",
      "Saving model (epoch =   10, loss = 3.0578)\n",
      "Saving model (epoch =   11, loss = 2.7954)\n",
      "Saving model (epoch =   12, loss = 2.5703)\n",
      "Saving model (epoch =   13, loss = 2.4203)\n",
      "Saving model (epoch =   14, loss = 2.2635)\n",
      "Saving model (epoch =   15, loss = 2.1377)\n",
      "Saving model (epoch =   16, loss = 2.0493)\n",
      "Saving model (epoch =   17, loss = 1.9679)\n",
      "Saving model (epoch =   18, loss = 1.8606)\n",
      "Saving model (epoch =   19, loss = 1.7880)\n",
      "Saving model (epoch =   20, loss = 1.7318)\n",
      "Saving model (epoch =   21, loss = 1.6603)\n",
      "Saving model (epoch =   22, loss = 1.6219)\n",
      "Saving model (epoch =   23, loss = 1.5780)\n",
      "Saving model (epoch =   24, loss = 1.5210)\n",
      "Saving model (epoch =   25, loss = 1.4943)\n",
      "Saving model (epoch =   26, loss = 1.4503)\n",
      "Saving model (epoch =   27, loss = 1.4091)\n",
      "Saving model (epoch =   28, loss = 1.3880)\n",
      "Saving model (epoch =   30, loss = 1.3465)\n",
      "Saving model (epoch =   31, loss = 1.3363)\n",
      "Saving model (epoch =   32, loss = 1.3173)\n",
      "Saving model (epoch =   33, loss = 1.2723)\n",
      "Saving model (epoch =   35, loss = 1.2468)\n",
      "Saving model (epoch =   36, loss = 1.2467)\n",
      "Saving model (epoch =   38, loss = 1.2202)\n",
      "Saving model (epoch =   39, loss = 1.1861)\n",
      "Saving model (epoch =   40, loss = 1.1838)\n",
      "Saving model (epoch =   41, loss = 1.1717)\n",
      "Saving model (epoch =   42, loss = 1.1707)\n",
      "Saving model (epoch =   43, loss = 1.1457)\n",
      "Saving model (epoch =   45, loss = 1.1271)\n",
      "Saving model (epoch =   47, loss = 1.0931)\n",
      "Saving model (epoch =   50, loss = 1.0728)\n",
      "Saving model (epoch =   54, loss = 1.0693)\n",
      "Saving model (epoch =   55, loss = 1.0432)\n",
      "Saving model (epoch =   57, loss = 1.0324)\n",
      "Saving model (epoch =   61, loss = 1.0089)\n",
      "Saving model (epoch =   62, loss = 1.0064)\n",
      "Saving model (epoch =   65, loss = 0.9904)\n",
      "Saving model (epoch =   67, loss = 0.9864)\n",
      "Saving model (epoch =   68, loss = 0.9857)\n",
      "Saving model (epoch =   71, loss = 0.9737)\n",
      "Saving model (epoch =   72, loss = 0.9704)\n",
      "Saving model (epoch =   74, loss = 0.9663)\n",
      "Saving model (epoch =   81, loss = 0.9512)\n",
      "Saving model (epoch =   83, loss = 0.9248)\n",
      "Saving model (epoch =   87, loss = 0.9232)\n",
      "Saving model (epoch =   92, loss = 0.9145)\n",
      "Saving model (epoch =   94, loss = 0.9053)\n",
      "Saving model (epoch =   95, loss = 0.9018)\n",
      "Saving model (epoch =   99, loss = 0.8995)\n",
      "Saving model (epoch =  101, loss = 0.8897)\n",
      "Saving model (epoch =  109, loss = 0.8816)\n",
      "Saving model (epoch =  116, loss = 0.8745)\n",
      "Saving model (epoch =  118, loss = 0.8628)\n",
      "Saving model (epoch =  136, loss = 0.8552)\n",
      "Saving model (epoch =  137, loss = 0.8540)\n",
      "Saving model (epoch =  143, loss = 0.8507)\n",
      "Saving model (epoch =  145, loss = 0.8350)\n",
      "Saving model (epoch =  153, loss = 0.8318)\n",
      "Saving model (epoch =  160, loss = 0.8305)\n",
      "Saving model (epoch =  173, loss = 0.8270)\n",
      "Saving model (epoch =  177, loss = 0.8198)\n",
      "Saving model (epoch =  180, loss = 0.8158)\n",
      "Saving model (epoch =  191, loss = 0.8155)\n",
      "Saving model (epoch =  204, loss = 0.8128)\n",
      "Saving model (epoch =  219, loss = 0.8124)\n",
      "Saving model (epoch =  220, loss = 0.8091)\n",
      "Saving model (epoch =  225, loss = 0.7966)\n",
      "Saving model (epoch =  275, loss = 0.7933)\n",
      "Saving model (epoch =  277, loss = 0.7921)\n",
      "Saving model (epoch =  281, loss = 0.7894)\n",
      "Saving model (epoch =  284, loss = 0.7876)\n",
      "Saving model (epoch =  296, loss = 0.7824)\n",
      "Saving model (epoch =  312, loss = 0.7806)\n",
      "Saving model (epoch =  334, loss = 0.7779)\n",
      "Saving model (epoch =  342, loss = 0.7763)\n",
      "Saving model (epoch =  350, loss = 0.7683)\n",
      "Saving model (epoch =  396, loss = 0.7663)\n",
      "Saving model (epoch =  398, loss = 0.7630)\n",
      "Saving model (epoch =  419, loss = 0.7587)\n",
      "Saving model (epoch =  465, loss = 0.7555)\n",
      "Saving model (epoch =  517, loss = 0.7547)\n",
      "Saving model (epoch =  519, loss = 0.7507)\n",
      "Saving model (epoch =  524, loss = 0.7490)\n",
      "Saving model (epoch =  595, loss = 0.7436)\n",
      "Saving model (epoch =  638, loss = 0.7376)\n",
      "Saving model (epoch =  693, loss = 0.7344)\n",
      "Saving model (epoch =  739, loss = 0.7307)\n",
      "Saving model (epoch =  793, loss = 0.7292)\n",
      "Saving model (epoch =  847, loss = 0.7290)\n",
      "Saving model (epoch =  876, loss = 0.7250)\n",
      "Saving model (epoch =  935, loss = 0.7237)\n",
      "Saving model (epoch =  973, loss = 0.7237)\n",
      "Saving model (epoch =  985, loss = 0.7150)\n",
      "Finished training after 1186 epochs\n"
     ]
    }
   ],
   "source": [
    "model_loss, model_loss_record = train(tr_set, dv_set, model, config, device)"
   ]
  },
  {
   "cell_type": "markdown",
   "metadata": {},
   "source": [
    "# change optim"
   ]
  },
  {
   "cell_type": "code",
   "execution_count": 223,
   "metadata": {
    "scrolled": false
   },
   "outputs": [
    {
     "name": "stdout",
     "output_type": "stream",
     "text": [
      "Saving model (epoch =    1, loss = 282.5740)\n",
      "Saving model (epoch =    2, loss = 240.3181)\n",
      "Saving model (epoch =    3, loss = 190.7273)\n",
      "Saving model (epoch =    4, loss = 137.1409)\n",
      "Saving model (epoch =    5, loss = 88.0978)\n",
      "Saving model (epoch =    6, loss = 52.9460)\n",
      "Saving model (epoch =    7, loss = 36.4482)\n",
      "Saving model (epoch =    8, loss = 31.7930)\n",
      "Saving model (epoch =    9, loss = 29.3450)\n",
      "Saving model (epoch =   10, loss = 26.5065)\n",
      "Saving model (epoch =   11, loss = 24.4340)\n",
      "Saving model (epoch =   12, loss = 22.8836)\n",
      "Saving model (epoch =   13, loss = 21.4833)\n",
      "Saving model (epoch =   14, loss = 20.1332)\n",
      "Saving model (epoch =   15, loss = 18.8828)\n",
      "Saving model (epoch =   16, loss = 17.6727)\n",
      "Saving model (epoch =   17, loss = 16.5272)\n",
      "Saving model (epoch =   18, loss = 15.3833)\n",
      "Saving model (epoch =   19, loss = 14.3221)\n",
      "Saving model (epoch =   20, loss = 13.2873)\n",
      "Saving model (epoch =   21, loss = 12.3128)\n",
      "Saving model (epoch =   22, loss = 11.3656)\n",
      "Saving model (epoch =   23, loss = 10.5036)\n",
      "Saving model (epoch =   24, loss = 9.6777)\n",
      "Saving model (epoch =   25, loss = 8.8764)\n",
      "Saving model (epoch =   26, loss = 8.1513)\n",
      "Saving model (epoch =   27, loss = 7.4666)\n",
      "Saving model (epoch =   28, loss = 6.8483)\n",
      "Saving model (epoch =   29, loss = 6.2841)\n",
      "Saving model (epoch =   30, loss = 5.7549)\n",
      "Saving model (epoch =   31, loss = 5.2967)\n",
      "Saving model (epoch =   32, loss = 4.8817)\n",
      "Saving model (epoch =   33, loss = 4.5126)\n",
      "Saving model (epoch =   34, loss = 4.1846)\n",
      "Saving model (epoch =   35, loss = 3.9014)\n",
      "Saving model (epoch =   36, loss = 3.6419)\n",
      "Saving model (epoch =   37, loss = 3.4188)\n",
      "Saving model (epoch =   38, loss = 3.2309)\n",
      "Saving model (epoch =   39, loss = 3.0619)\n",
      "Saving model (epoch =   40, loss = 2.9148)\n",
      "Saving model (epoch =   41, loss = 2.7910)\n",
      "Saving model (epoch =   42, loss = 2.6767)\n",
      "Saving model (epoch =   43, loss = 2.5784)\n",
      "Saving model (epoch =   44, loss = 2.4903)\n",
      "Saving model (epoch =   45, loss = 2.4141)\n",
      "Saving model (epoch =   46, loss = 2.3395)\n",
      "Saving model (epoch =   47, loss = 2.2771)\n",
      "Saving model (epoch =   48, loss = 2.2112)\n",
      "Saving model (epoch =   49, loss = 2.1609)\n",
      "Saving model (epoch =   50, loss = 2.1005)\n",
      "Saving model (epoch =   51, loss = 2.0583)\n",
      "Saving model (epoch =   52, loss = 2.0172)\n",
      "Saving model (epoch =   53, loss = 1.9756)\n",
      "Saving model (epoch =   54, loss = 1.9357)\n",
      "Saving model (epoch =   55, loss = 1.9010)\n",
      "Saving model (epoch =   56, loss = 1.8571)\n",
      "Saving model (epoch =   57, loss = 1.8304)\n",
      "Saving model (epoch =   58, loss = 1.7989)\n",
      "Saving model (epoch =   59, loss = 1.7624)\n",
      "Saving model (epoch =   60, loss = 1.7330)\n",
      "Saving model (epoch =   61, loss = 1.7144)\n",
      "Saving model (epoch =   62, loss = 1.6840)\n",
      "Saving model (epoch =   63, loss = 1.6608)\n",
      "Saving model (epoch =   64, loss = 1.6417)\n",
      "Saving model (epoch =   65, loss = 1.6119)\n",
      "Saving model (epoch =   66, loss = 1.5968)\n",
      "Saving model (epoch =   67, loss = 1.5734)\n",
      "Saving model (epoch =   68, loss = 1.5523)\n",
      "Saving model (epoch =   69, loss = 1.5315)\n",
      "Saving model (epoch =   70, loss = 1.5205)\n",
      "Saving model (epoch =   71, loss = 1.5129)\n",
      "Saving model (epoch =   72, loss = 1.4739)\n",
      "Saving model (epoch =   73, loss = 1.4696)\n",
      "Saving model (epoch =   74, loss = 1.4533)\n",
      "Saving model (epoch =   75, loss = 1.4479)\n",
      "Saving model (epoch =   76, loss = 1.4226)\n",
      "Saving model (epoch =   77, loss = 1.4151)\n",
      "Saving model (epoch =   78, loss = 1.3920)\n",
      "Saving model (epoch =   79, loss = 1.3798)\n",
      "Saving model (epoch =   81, loss = 1.3671)\n",
      "Saving model (epoch =   82, loss = 1.3357)\n",
      "Saving model (epoch =   83, loss = 1.3319)\n",
      "Saving model (epoch =   84, loss = 1.3239)\n",
      "Saving model (epoch =   85, loss = 1.3098)\n",
      "Saving model (epoch =   86, loss = 1.3035)\n",
      "Saving model (epoch =   87, loss = 1.2866)\n",
      "Saving model (epoch =   88, loss = 1.2862)\n",
      "Saving model (epoch =   89, loss = 1.2680)\n",
      "Saving model (epoch =   90, loss = 1.2662)\n",
      "Saving model (epoch =   91, loss = 1.2574)\n",
      "Saving model (epoch =   92, loss = 1.2440)\n",
      "Saving model (epoch =   93, loss = 1.2256)\n",
      "Saving model (epoch =   94, loss = 1.2209)\n",
      "Saving model (epoch =   96, loss = 1.2041)\n",
      "Saving model (epoch =   97, loss = 1.1977)\n",
      "Saving model (epoch =   98, loss = 1.1924)\n",
      "Saving model (epoch =   99, loss = 1.1789)\n",
      "Saving model (epoch =  100, loss = 1.1764)\n",
      "Saving model (epoch =  101, loss = 1.1684)\n",
      "Saving model (epoch =  102, loss = 1.1658)\n",
      "Saving model (epoch =  103, loss = 1.1590)\n",
      "Saving model (epoch =  104, loss = 1.1446)\n",
      "Saving model (epoch =  105, loss = 1.1333)\n",
      "Saving model (epoch =  107, loss = 1.1287)\n",
      "Saving model (epoch =  108, loss = 1.1227)\n",
      "Saving model (epoch =  110, loss = 1.1202)\n",
      "Saving model (epoch =  111, loss = 1.0997)\n",
      "Saving model (epoch =  112, loss = 1.0873)\n",
      "Saving model (epoch =  114, loss = 1.0868)\n",
      "Saving model (epoch =  115, loss = 1.0693)\n",
      "Saving model (epoch =  118, loss = 1.0514)\n",
      "Saving model (epoch =  122, loss = 1.0479)\n",
      "Saving model (epoch =  123, loss = 1.0386)\n",
      "Saving model (epoch =  124, loss = 1.0261)\n",
      "Saving model (epoch =  129, loss = 1.0199)\n",
      "Saving model (epoch =  130, loss = 1.0053)\n",
      "Saving model (epoch =  133, loss = 0.9947)\n",
      "Saving model (epoch =  136, loss = 0.9817)\n",
      "Saving model (epoch =  138, loss = 0.9755)\n",
      "Saving model (epoch =  140, loss = 0.9665)\n",
      "Saving model (epoch =  141, loss = 0.9605)\n",
      "Saving model (epoch =  143, loss = 0.9520)\n",
      "Saving model (epoch =  145, loss = 0.9404)\n",
      "Saving model (epoch =  150, loss = 0.9345)\n",
      "Saving model (epoch =  154, loss = 0.9314)\n",
      "Saving model (epoch =  156, loss = 0.9205)\n",
      "Saving model (epoch =  158, loss = 0.9085)\n",
      "Saving model (epoch =  163, loss = 0.9016)\n",
      "Saving model (epoch =  164, loss = 0.8956)\n",
      "Saving model (epoch =  170, loss = 0.8913)\n",
      "Saving model (epoch =  172, loss = 0.8888)\n",
      "Saving model (epoch =  173, loss = 0.8747)\n",
      "Saving model (epoch =  184, loss = 0.8674)\n",
      "Saving model (epoch =  188, loss = 0.8532)\n",
      "Saving model (epoch =  194, loss = 0.8469)\n",
      "Saving model (epoch =  201, loss = 0.8419)\n",
      "Saving model (epoch =  203, loss = 0.8387)\n",
      "Saving model (epoch =  210, loss = 0.8291)\n",
      "Saving model (epoch =  216, loss = 0.8255)\n",
      "Saving model (epoch =  219, loss = 0.8192)\n",
      "Saving model (epoch =  225, loss = 0.8122)\n",
      "Saving model (epoch =  229, loss = 0.8120)\n",
      "Saving model (epoch =  232, loss = 0.8032)\n",
      "Saving model (epoch =  250, loss = 0.8025)\n",
      "Saving model (epoch =  251, loss = 0.7981)\n",
      "Saving model (epoch =  260, loss = 0.7949)\n",
      "Saving model (epoch =  261, loss = 0.7887)\n",
      "Saving model (epoch =  263, loss = 0.7866)\n",
      "Saving model (epoch =  275, loss = 0.7733)\n",
      "Saving model (epoch =  284, loss = 0.7663)\n",
      "Saving model (epoch =  316, loss = 0.7614)\n",
      "Saving model (epoch =  320, loss = 0.7571)\n",
      "Saving model (epoch =  366, loss = 0.7553)\n",
      "Saving model (epoch =  377, loss = 0.7522)\n",
      "Saving model (epoch =  394, loss = 0.7509)\n",
      "Saving model (epoch =  398, loss = 0.7406)\n",
      "Saving model (epoch =  461, loss = 0.7389)\n",
      "Saving model (epoch =  466, loss = 0.7357)\n",
      "Saving model (epoch =  490, loss = 0.7305)\n",
      "Saving model (epoch =  506, loss = 0.7295)\n",
      "Saving model (epoch =  520, loss = 0.7265)\n",
      "Saving model (epoch =  617, loss = 0.7256)\n",
      "Saving model (epoch =  666, loss = 0.7238)\n",
      "Saving model (epoch =  693, loss = 0.7199)\n",
      "Saving model (epoch =  721, loss = 0.7171)\n",
      "Saving model (epoch =  792, loss = 0.7115)\n",
      "Saving model (epoch =  831, loss = 0.7065)\n",
      "Finished training after 1032 epochs\n"
     ]
    }
   ],
   "source": [
    "model_loss, model_loss_record = train(tr_set, dv_set, model, config, device)"
   ]
  },
  {
   "cell_type": "markdown",
   "metadata": {},
   "source": [
    "# change betch_size 1"
   ]
  },
  {
   "cell_type": "code",
   "execution_count": 79,
   "metadata": {},
   "outputs": [
    {
     "name": "stdout",
     "output_type": "stream",
     "text": [
      "Saving model (epoch =    1, loss = 2.5204)\n",
      "Saving model (epoch =    2, loss = 2.2410)\n",
      "Saving model (epoch =    3, loss = 1.7981)\n",
      "Saving model (epoch =    4, loss = 1.5653)\n",
      "Saving model (epoch =    5, loss = 1.3191)\n",
      "Saving model (epoch =    6, loss = 1.2073)\n",
      "Saving model (epoch =   13, loss = 1.0135)\n",
      "Saving model (epoch =   24, loss = 0.8427)\n",
      "Saving model (epoch =   54, loss = 0.8092)\n",
      "Saving model (epoch =   58, loss = 0.8026)\n",
      "Saving model (epoch =   80, loss = 0.7862)\n",
      "Finished training after 281 epochs\n"
     ]
    }
   ],
   "source": [
    "model_loss, model_loss_record = train(tr_set, dv_set, model, config, device)"
   ]
  },
  {
   "cell_type": "markdown",
   "metadata": {},
   "source": [
    "# change betch_size16"
   ]
  },
  {
   "cell_type": "code",
   "execution_count": 95,
   "metadata": {},
   "outputs": [
    {
     "name": "stdout",
     "output_type": "stream",
     "text": [
      "Saving model (epoch =    1, loss = 20.8271)\n",
      "Saving model (epoch =    2, loss = 9.5643)\n",
      "Saving model (epoch =    3, loss = 4.7050)\n",
      "Saving model (epoch =    4, loss = 2.7174)\n",
      "Saving model (epoch =    5, loss = 2.0158)\n",
      "Saving model (epoch =    6, loss = 1.7547)\n",
      "Saving model (epoch =    7, loss = 1.5756)\n",
      "Saving model (epoch =    8, loss = 1.4983)\n",
      "Saving model (epoch =    9, loss = 1.3401)\n",
      "Saving model (epoch =   11, loss = 1.1384)\n",
      "Saving model (epoch =   13, loss = 1.1008)\n",
      "Saving model (epoch =   16, loss = 1.0643)\n",
      "Saving model (epoch =   17, loss = 0.9759)\n",
      "Saving model (epoch =   19, loss = 0.9561)\n",
      "Saving model (epoch =   20, loss = 0.9459)\n",
      "Saving model (epoch =   22, loss = 0.9374)\n",
      "Saving model (epoch =   24, loss = 0.8954)\n",
      "Saving model (epoch =   26, loss = 0.8806)\n",
      "Saving model (epoch =   30, loss = 0.8582)\n",
      "Saving model (epoch =   31, loss = 0.8414)\n",
      "Saving model (epoch =   32, loss = 0.7953)\n",
      "Saving model (epoch =   37, loss = 0.7659)\n",
      "Saving model (epoch =   91, loss = 0.7186)\n",
      "Saving model (epoch =  104, loss = 0.7168)\n",
      "Saving model (epoch =  162, loss = 0.7089)\n",
      "Saving model (epoch =  224, loss = 0.7058)\n",
      "Saving model (epoch =  237, loss = 0.7036)\n",
      "Saving model (epoch =  315, loss = 0.6944)\n",
      "Saving model (epoch =  479, loss = 0.6883)\n",
      "Finished training after 680 epochs\n"
     ]
    }
   ],
   "source": [
    "model_loss, model_loss_record = train(tr_set, dv_set, model, config, device)"
   ]
  },
  {
   "cell_type": "markdown",
   "metadata": {},
   "source": [
    "# betch size 32"
   ]
  },
  {
   "cell_type": "code",
   "execution_count": 112,
   "metadata": {},
   "outputs": [
    {
     "name": "stdout",
     "output_type": "stream",
     "text": [
      "Saving model (epoch =    1, loss = 33.0232)\n",
      "Saving model (epoch =    2, loss = 19.7136)\n",
      "Saving model (epoch =    3, loss = 12.4835)\n",
      "Saving model (epoch =    4, loss = 7.5695)\n",
      "Saving model (epoch =    5, loss = 4.6656)\n",
      "Saving model (epoch =    6, loss = 3.2333)\n",
      "Saving model (epoch =    7, loss = 2.5378)\n",
      "Saving model (epoch =    8, loss = 2.2180)\n",
      "Saving model (epoch =    9, loss = 1.8637)\n",
      "Saving model (epoch =   10, loss = 1.7488)\n",
      "Saving model (epoch =   11, loss = 1.6064)\n",
      "Saving model (epoch =   12, loss = 1.5171)\n",
      "Saving model (epoch =   13, loss = 1.4173)\n",
      "Saving model (epoch =   15, loss = 1.3574)\n",
      "Saving model (epoch =   16, loss = 1.2416)\n",
      "Saving model (epoch =   17, loss = 1.2260)\n",
      "Saving model (epoch =   19, loss = 1.0937)\n",
      "Saving model (epoch =   20, loss = 1.0785)\n",
      "Saving model (epoch =   23, loss = 1.0256)\n",
      "Saving model (epoch =   26, loss = 0.9839)\n",
      "Saving model (epoch =   29, loss = 0.9214)\n",
      "Saving model (epoch =   34, loss = 0.8726)\n",
      "Saving model (epoch =   36, loss = 0.8600)\n",
      "Saving model (epoch =   39, loss = 0.8355)\n",
      "Saving model (epoch =   40, loss = 0.8019)\n",
      "Saving model (epoch =   49, loss = 0.7955)\n",
      "Saving model (epoch =   52, loss = 0.7771)\n",
      "Saving model (epoch =   64, loss = 0.7753)\n",
      "Saving model (epoch =   66, loss = 0.7636)\n",
      "Saving model (epoch =   75, loss = 0.7454)\n",
      "Saving model (epoch =   81, loss = 0.7257)\n",
      "Saving model (epoch =  100, loss = 0.7056)\n",
      "Saving model (epoch =  282, loss = 0.7010)\n",
      "Saving model (epoch =  325, loss = 0.6987)\n",
      "Saving model (epoch =  340, loss = 0.6913)\n",
      "Saving model (epoch =  424, loss = 0.6907)\n",
      "Saving model (epoch =  432, loss = 0.6874)\n",
      "Saving model (epoch =  445, loss = 0.6802)\n",
      "Saving model (epoch =  451, loss = 0.6799)\n",
      "Saving model (epoch =  499, loss = 0.6754)\n",
      "Saving model (epoch =  576, loss = 0.6649)\n",
      "Saving model (epoch =  616, loss = 0.6353)\n",
      "Finished training after 817 epochs\n"
     ]
    }
   ],
   "source": [
    "model_loss, model_loss_record = train(tr_set, dv_set, model, config, device)"
   ]
  },
  {
   "cell_type": "code",
   "execution_count": 96,
   "metadata": {
    "colab": {
     "base_uri": "https://localhost:8080/",
     "height": 295
    },
    "id": "hsNO9nnXQBvP",
    "outputId": "1626def6-94c7-4a87-9447-d939f827c8eb"
   },
   "outputs": [
    {
     "data": {
      "image/png": "[encoded data removed]",
      "text/plain": [
       "<Figure size 432x288 with 1 Axes>"
      ]
     },
     "metadata": {
      "needs_background": "light"
     },
     "output_type": "display_data"
    }
   ],
   "source": [
    "plot_learning_curve(model_loss_record, title='deep model')"
   ]
  },
  {
   "cell_type": "code",
   "execution_count": 113,
   "metadata": {},
   "outputs": [
    {
     "data": {
      "image/png": "[encoded data removed]",
      "text/plain": [
       "<Figure size 432x288 with 1 Axes>"
      ]
     },
     "metadata": {
      "needs_background": "light"
     },
     "output_type": "display_data"
    }
   ],
   "source": [
    "plot_learning_curve(model_loss_record, title='deep model')"
   ]
  },
  {
   "cell_type": "code",
   "execution_count": 114,
   "metadata": {
    "colab": {
     "base_uri": "https://localhost:8080/",
     "height": 350
    },
    "id": "3iZTVn5WQFpX",
    "outputId": "a2d5e118-559d-45c6-b644-6792af54663d"
   },
   "outputs": [
    {
     "data": {
      "image/png": "[encoded data removed]",
      "text/plain": [
       "<Figure size 360x360 with 1 Axes>"
      ]
     },
     "metadata": {
      "needs_background": "light"
     },
     "output_type": "display_data"
    }
   ],
   "source": [
    "del model\n",
    "model = NeuralNet(tr_set.dataset.dim).to(device)\n",
    "ckpt = torch.load(config['save_path'], map_location='cpu')  # Load your best model\n",
    "model.load_state_dict(ckpt)\n",
    "plot_pred(dv_set, model, device)  # Show prediction on the validation set"
   ]
  },
  {
   "cell_type": "markdown",
   "metadata": {
    "id": "aQikz3IPiyPf"
   },
   "source": [
    "# **Testing**\n",
    "The predictions of your model on testing set will be stored at `pred.csv`."
   ]
  },
  {
   "cell_type": "code",
   "execution_count": 115,
   "metadata": {
    "colab": {
     "base_uri": "https://localhost:8080/"
    },
    "id": "O8cTuQjQQOon",
    "outputId": "6bc5de07-4c5a-4e87-9ae3-d09f539c5f2c"
   },
   "outputs": [
    {
     "name": "stdout",
     "output_type": "stream",
     "text": [
      "Saving results to pred.csv\n"
     ]
    }
   ],
   "source": [
    "def save_pred(preds, file):\n",
    "    ''' Save predictions to specified file '''\n",
    "    print('Saving results to {}'.format(file))\n",
    "    with open(file, 'w') as fp:\n",
    "        writer = csv.writer(fp)\n",
    "        writer.writerow(['id', 'tested_positive'])\n",
    "        for i, p in enumerate(preds):\n",
    "            writer.writerow([i, p])\n",
    "\n",
    "preds = test(tt_set, model, device)  # predict COVID-19 cases with your model\n",
    "save_pred(preds, 'pred.csv')         # save prediction file to pred.csv"
   ]
  },
  {
   "cell_type": "markdown",
   "metadata": {
    "id": "nfrVxqJanGpE"
   },
   "source": [
    "# **Hints**\n",
    "\n",
    "## **Simple Baseline**\n",
    "* Run sample code\n",
    "\n",
    "## **Medium Baseline**\n",
    "* Feature selection: 40 states + 2 `tested_positive` (`TODO` in dataset)\n",
    "\n",
    "## **Strong Baseline**\n",
    "* Feature selection (what other features are useful?)\n",
    "* DNN architecture (layers? dimension? activation function?)\n",
    "* Training (mini-batch? optimizer? learning rate?)\n",
    "* L2 regularization\n",
    "* There are some mistakes in the sample code, can you find them?"
   ]
  },
  {
   "cell_type": "markdown",
   "metadata": {
    "id": "9tmCwXgpot3t"
   },
   "source": [
    "# **Reference**\n",
    "This code is completely written by Heng-Jui Chang @ NTUEE.  \n",
    "Copying or reusing this code is required to specify the original author. \n",
    "\n",
    "E.g.  \n",
    "Source: Heng-Jui Chang @ NTUEE (https://github.com/ga642381/ML2021-Spring/blob/main/HW01/HW01.ipynb)\n"
   ]
  }
 ],
 "metadata": {
  "accelerator": "GPU",
  "colab": {
   "collapsed_sections": [],
   "name": "ML2021Spring - HW1.ipynb",
   "provenance": [],
   "toc_visible": true
  },
  "kernelspec": {
   "display_name": "Python 3",
   "language": "python",
   "name": "python3"
  },
  "language_info": {
   "codemirror_mode": {
    "name": "ipython",
    "version": 3
   },
   "file_extension": ".py",
   "mimetype": "text/x-python",
   "name": "python",
   "nbconvert_exporter": "python",
   "pygments_lexer": "ipython3",
   "version": "3.7.10"
  }
 },
 "nbformat": 4,
 "nbformat_minor": 1
}
